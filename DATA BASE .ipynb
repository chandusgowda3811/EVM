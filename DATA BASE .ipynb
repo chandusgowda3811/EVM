{
 "cells": [
  {
   "cell_type": "markdown",
   "id": "ddba1217",
   "metadata": {},
   "source": [
    "# TO CREATE VOTES TABLE"
   ]
  },
  {
   "cell_type": "code",
   "execution_count": null,
   "id": "958803e3",
   "metadata": {},
   "outputs": [],
   "source": [
    "import sqlite3\n",
    "\n",
    "con = sqlite3.connect('votes.db')\n",
    "\n",
    "def create_table():\n",
    "        con.execute(\"CREATE TABLE IF NOT EXISTS PP (ID INT PRIMARY KEY NOT NULL, NAME TEXT NOT NULL, VOTES INT NOT NULL);\")\n",
    "        con.execute(\"INSERT INTO PP (ID, NAME, VOTES) VALUES (1, 'PARTY 1', 0);\")\n",
    "        con.execute(\"INSERT INTO PP (ID, NAME, VOTES) VALUES (2, 'PARTY 2', 0);\")\n",
    "        con.execute(\"INSERT INTO PP (ID, NAME, VOTES) VALUES (3, 'PARTY 3', 0);\")\n",
    "        con.execute(\"INSERT INTO PP (ID, NAME, VOTES) VALUES (4, 'NOTA', 0);\")\n",
    "        \n",
    "        # Insert more party records here...\n",
    "        con.commit()\n",
    "        print(\"CREATED AND INSERTED\")\n",
    "\n",
    "create_table()\n"
   ]
  },
  {
   "cell_type": "markdown",
   "id": "d4cd9468",
   "metadata": {},
   "source": [
    "# TO DISPLAY CONTENTS IN VOTES TABLE"
   ]
  },
  {
   "cell_type": "code",
   "execution_count": 1,
   "id": "3aafc6ce",
   "metadata": {
    "scrolled": false
   },
   "outputs": [],
   "source": [
    "import sqlite3\n",
    "import tkinter as tk\n",
    "from tkinter import ttk\n",
    "\n",
    "# Connect to the SQLite database file\n",
    "conn = sqlite3.connect('VOTES.db')\n",
    "\n",
    "# Create a cursor object to execute SQL queries\n",
    "cursor = conn.cursor()\n",
    "\n",
    "# Execute a SELECT query to retrieve data from a table\n",
    "cursor.execute(\"SELECT * FROM PP\")  # Replace 'tablename' with the actual table name in your database\n",
    "\n",
    "# Fetch all the rows returned by the SELECT query\n",
    "rows = cursor.fetchall()\n",
    "\n",
    "# Get column names from the description attribute of the cursor\n",
    "columns = [description[0] for description in cursor.description]\n",
    "\n",
    "# Close the cursor and the database connection\n",
    "cursor.close()\n",
    "conn.close()\n",
    "\n",
    "# Tkinter application\n",
    "root = tk.Tk()\n",
    "root.title(\"Data Display\")\n",
    "root.geometry(\"500x300\")  # Set the initial window size\n",
    "\n",
    "# Create a Treeview widget to display the data\n",
    "tree = ttk.Treeview(root, columns=columns, show='headings')\n",
    "\n",
    "# Add columns to the Treeview\n",
    "for col in columns:\n",
    "    tree.heading(col, text=col, command=lambda c=col: sort_treeview(tree, c, False))  # Add column header sorting\n",
    "    tree.column(col, width=150)\n",
    "\n",
    "# Insert data into the Treeview\n",
    "for row in rows:\n",
    "    tree.insert('', 'end', values=row)\n",
    "\n",
    "# Create a scrollbar for the Treeview\n",
    "scrollbar = ttk.Scrollbar(root, orient=\"vertical\", command=tree.yview)\n",
    "tree.configure(yscrollcommand=scrollbar.set)\n",
    "\n",
    "# Pack the Treeview and scrollbar widgets\n",
    "tree.pack(fill='both', expand=True, padx=10, pady=10)  # Add padding to create a gap between rows\n",
    "scrollbar.pack(side='right', fill='y')\n",
    "\n",
    "# Set a bigger font for the Treeview headings\n",
    "style = ttk.Style()\n",
    "style.configure(\"Treeview.Heading\", font=(\"Arial\", 16, \"bold\"))  # Change the font family, size, and weight here\n",
    "\n",
    "# Set a bigger font for the Treeview cells\n",
    "style.configure(\"Treeview\", font=(\"Arial\", 14))  # Change the font family and size here\n",
    "\n",
    "# Function to sort the Treeview columns\n",
    "def sort_treeview(tv, col, reverse):\n",
    "    data = [(tv.set(child, col), child) for child in tv.get_children('')]\n",
    "    data.sort(reverse=reverse)\n",
    "\n",
    "    for index, (val, child) in enumerate(data):\n",
    "        tv.move(child, '', index)\n",
    "\n",
    "    tv.heading(col, command=lambda: sort_treeview(tv, col, not reverse))\n",
    "\n",
    "# Start the Tkinter main loop\n",
    "root.mainloop()\n"
   ]
  },
  {
   "cell_type": "markdown",
   "id": "7ea7f4cb",
   "metadata": {},
   "source": [
    "# TO DISPLAY CONTENT OF PEOPLE DATABASE WITH FACIAL"
   ]
  },
  {
   "cell_type": "code",
   "execution_count": 3,
   "id": "5764a927",
   "metadata": {
    "scrolled": false
   },
   "outputs": [
    {
     "name": "stdout",
     "output_type": "stream",
     "text": [
      "(1, 'CHANDU S GOWDA', 20, 'M', 0, 'C:/IOT/CHANDU S GOWDA_face2.jpg', b'\\x00\\x00\\x00 \\xebK\\xcb\\xbf\\x00\\x00\\x00\\xa0\\xc1\\r\\xb3?\\x00\\x00\\x00 LW\\xa2?\\x00\\x00\\x00@\\x12\\xa2\\xaa\\xbf\\x00\\x00\\x00\\x00\\xa1\\x82\\x8a?\\x00\\x00\\x00\\x80\\xe6\\xbd\\xa3\\xbf\\x00\\x00\\x00\\x80\\x82\\x11\\xad\\xbf\\x00\\x00\\x00\\x00}\\x06\\xb3\\xbf\\x00\\x00\\x00@1\\xf4\\xc5?\\x00\\x00\\x00`\\xaas\\xbb\\xbf\\x00\\x00\\x00@\\x15~\\xc4?\\x00\\x00\\x00@)@\\xa5\\xbf\\x00\\x00\\x00 \\x86\\xd3\\xc3\\xbf\\x00\\x00\\x00\\x00\\xe8\\xed\\xb6\\xbf\\x00\\x00\\x00\\xc0\\xef\\x07\\xa4?\\x00\\x00\\x00\\xc0\\xb3\\x16\\xab?\\x00\\x00\\x00\\x80\\xba\\xd9\\xc1\\xbf\\x00\\x00\\x00\\xc0\\xad.\\xc1\\xbf\\x00\\x00\\x00\\x80\\xa1H\\xac\\xbf\\x00\\x00\\x00\\xc0\\xfa~\\xc3\\xbf\\x00\\x00\\x00@\\x04#\\xa2?\\x00\\x00\\x00 \\xd8\\xcb\\x96?\\x00\\x00\\x00\\xa0\\xb8\\x04\\xa6\\xbf\\x00\\x00\\x00\\x00\\xdd\\x82\\xa6?\\x00\\x00\\x00@\\xc5=\\xd1\\xbf\\x00\\x00\\x00@\\x18\\x9a\\xd3\\xbf\\x00\\x00\\x00\\xc0\\xc3;\\xb4\\xbf\\x00\\x00\\x00 \\xe8k\\xc0\\xbf\\x00\\x00\\x00\\xc0F&\\x92?\\x00\\x00\\x00@Vt\\xb6\\xbf\\x00\\x00\\x00\\xc0\\x07\\xcd\\xb2?\\x00\\x00\\x00`Eev?\\x00\\x00\\x00`\\x11\\x81\\xcc\\xbf\\x00\\x00\\x00\\x00\\x13b}\\xbf\\x00\\x00\\x00\\xe0)\\xaa\\x9d\\xbf\\x00\\x00\\x00\\x00\\xcf \\xc5?\\x00\\x00\\x00\\x00\\xf8\\x07\\xab?\\x00\\x00\\x00\\xe0N\\xb2\\xae?\\x00\\x00\\x00`\\xe2\\xbe\\xbb?\\x00\\x00\\x00\\xc0\\x14\\xf4\\x96\\xbf\\x00\\x00\\x00 r\\x0c\\xbb\\xbf\\x00\\x00\\x00 \\xea\\x9c\\xad\\xbf\\x00\\x00\\x00\\x80!\\xfb\\xa9?\\x00\\x00\\x00\\x80\\x11n\\xcb?\\x00\\x00\\x00\\x80\\x89\\x9d\\xc2?\\x00\\x00\\x00\\xe0S\\x85\\xb4?\\x00\\x00\\x00\\x80/\\x97\\x88?\\x00\\x00\\x00@\\xce\\xbf\\x99\\xbf\\x00\\x00\\x00\\xa0|\\x99\\xba?\\x00\\x00\\x00\\xe0\\rm\\xca\\xbf\\x00\\x00\\x00\\xc0\\xe2.\\xae?\\x00\\x00\\x00\\x00!,\\xba?\\x00\\x00\\x00\\xe0E\\xc7\\x9c?\\x00\\x00\\x00@)\\x7f\\xae?\\x00\\x00\\x00@r\\x08\\xbe?\\x00\\x00\\x00\\xc0\\x0f\\xd4\\xc1\\xbf\\x00\\x00\\x00\\x80\\x01\\xdb\\x87\\xbf\\x00\\x00\\x00 \\x00P\\xae?\\x00\\x00\\x00\\xc05\\xbe\\xc1\\xbf\\x00\\x00\\x00\\x80\\xb0\\x86\\xb2?\\x00\\x00\\x00\\xe0O-\\x89\\xbf\\x00\\x00\\x00\\x80\\xbc\\x90}\\xbf\\x00\\x00\\x00 G\\x83\\xb7\\xbf\\x00\\x00\\x00@\\xddc\\x9d?\\x00\\x00\\x00\\xc0\\x88\\x12\\xc8?\\x00\\x00\\x00\\x00\\x8b\\xe8\\xb2?\\x00\\x00\\x00\\xe0\\xe2\\xc1\\xb6\\xbf\\x00\\x00\\x00\\x80\\x19N\\xc1\\xbf\\x00\\x00\\x00`os\\xc3?\\x00\\x00\\x00\\x80\\x91D\\xc8\\xbf\\x00\\x00\\x00\\xa0\\x17\\x0b\\x96\\xbf\\x00\\x00\\x00\\x80\\xc0\\xbf\\xc0?\\x00\\x00\\x00@\\\\\\x82\\xa2\\xbf\\x00\\x00\\x00`X\\xb1\\xc4\\xbf\\x00\\x00\\x00\\xc0\\xc4k\\xd2\\xbf\\x00\\x00\\x00@\\xde=\\xb7?\\x00\\x00\\x00\\xa0\\xd9\\xd7\\xdb?\\x00\\x00\\x00\\x80\\x1a\\xb9\\xbe?\\x00\\x00\\x00@)}\\xc2\\xbf\\x00\\x00\\x00\\xe0\\xd9\\xe1\\xb6?\\x00\\x00\\x00 \\x0b\\xa8\\xa8\\xbf\\x00\\x00\\x00\\x80\\x99\\xc4\\xb2\\xbf\\x00\\x00\\x00\\xe0\\x91\\xfb\\xb5?\\x00\\x00\\x00\\xe0\\xca\\xb3\\x9b?\\x00\\x00\\x00\\x00\\x17\\x90\\xb3\\xbf\\x00\\x00\\x00@\\x87\\xe3\\xad?\\x00\\x00\\x00\\x00n\\xfe\\xb2\\xbf\\x00\\x00\\x00\\xa0\\xb63\\xb8?\\x00\\x00\\x00@\\x15\\xd4\\xc9?\\x00\\x00\\x00\\x00g\\x93\\xb2?\\x00\\x00\\x00\\x80T\\\\\\x92\\xbf\\x00\\x00\\x00 ?\\xbc\\xc1?\\x00\\x00\\x00\\xc0TW\\x94\\xbf\\x00\\x00\\x00@Y{\\xb2?\\x00\\x00\\x00@}E\\x8e?\\x00\\x00\\x00`\\xedJ\\x9d?\\x00\\x00\\x00\\xa0\\x10\\xd6\\xbf\\xbf\\x00\\x00\\x00`$\\xf7\\x9a\\xbf\\x00\\x00\\x00\\x80\"6\\xb0\\xbf\\x00\\x00\\x00 \\xd6\\x84\\xb2\\xbf\\x00\\x00\\x00\\xa0\\xdbE\\xc2?\\x00\\x00\\x00\\x80\\xcah\\x9c?\\x00\\x00\\x00@\\x8a\\x96\\x80\\xbf\\x00\\x00\\x00\\x00\\xaf\\x17\\xb8?\\x00\\x00\\x00\\x00\\xd5\\xcc\\xc1\\xbf\\x00\\x00\\x00@(q\\xca?\\x00\\x00\\x00\\xe0\\xb3/\\x91?\\x00\\x00\\x00\\xc0\\xb8y\\xa8\\xbf\\x00\\x00\\x00\\x80\\x08?\\xa4\\xbf\\x00\\x00\\x00@\\\\s\\xbe?\\x00\\x00\\x00\\xa0ov\\xb6\\xbf\\x00\\x00\\x00`\\xe7\\x82\\x9a\\xbf\\x00\\x00\\x00\\x00\\x96\\xb6\\xc2?\\x00\\x00\\x00\\x80\\xba\\xfd\\xce\\xbf\\x00\\x00\\x00`\\xb2\\xbe\\xc0?\\x00\\x00\\x00@\\xe1c\\xc3?\\x00\\x00\\x00@m\\xcc\\xa9\\xbf\\x00\\x00\\x00\\x00,\\x92\\xc4?\\x00\\x00\\x00@\\xb5\\x12\\xb1?\\x00\\x00\\x00@>Z\\xad?\\x00\\x00\\x00\\x80\\xb9\\xda\\x94?\\x00\\x00\\x00\\x00E_\\xb1?\\x00\\x00\\x00\\xe0\\x02\\x18\\xc1\\xbf\\x00\\x00\\x00\\xa0I\\xcd\\xb4\\xbf\\x00\\x00\\x00\\x00\\xe7\\x04\\x85\\xbf\\x00\\x00\\x00 \\xdeu\\xad\\xbf\\x00\\x00\\x00@\\x93\\x95\\xb0?\\x00\\x00\\x00\\xc0\\xa61\\x88?')\n",
      "(2, 'CB', 21, 'M', 0, 'C:/IOT/CB_face1.jpg', b\"\\x00\\x00\\x00\\xe0\\xc9\\x1b\\xc4\\xbf\\x00\\x00\\x00 %\\xda\\x92?\\x00\\x00\\x00\\x00\\x0e\\x00s\\xbf\\x00\\x00\\x00\\xa0\\x90c\\xa9\\xbf\\x00\\x00\\x00\\xa0\\xcd\\ta?\\x00\\x00\\x00\\xc0\\xb0\\x91\\x82\\xbf\\x00\\x00\\x00\\x00\\xaew\\xa2\\xbf\\x00\\x00\\x00\\xe0\\x80A\\xbc\\xbf\\x00\\x00\\x00\\x00\\x7fe\\xc7?\\x00\\x00\\x00\\x80\\xf64\\xc5\\xbf\\x00\\x00\\x00\\xa0\\xe8?\\xc7?\\x00\\x00\\x00\\xa0'\\x8b\\x81?\\x00\\x00\\x00\\xe0\\xdc\\x95\\xc9\\xbf\\x00\\x00\\x00`\\xdf\\xa6\\xc6\\xbf\\x00\\x00\\x00\\xe0\\xb8\\xff\\xa6\\xbf\\x00\\x00\\x00\\x00n\\x11\\xbd?\\x00\\x00\\x00\\xe0\\xc2\\xd3\\xb4\\xbf\\x00\\x00\\x00@\\xa6\\x13\\xc7\\xbf\\x00\\x00\\x00\\xa0\\x89v\\xb4\\xbf\\x00\\x00\\x00\\xc0\\xcf\\x88\\xbd\\xbf\\x00\\x00\\x00\\x80\\r\\xdd\\xa6?\\x00\\x00\\x00\\x80e/|\\xbf\\x00\\x00\\x00@\\x07Wu\\xbf\\x00\\x00\\x00`b\\xbf\\xc2?\\x00\\x00\\x00@v\\xdf\\xc1\\xbf\\x00\\x00\\x00 \\xeb\\xaa\\xd5\\xbf\\x00\\x00\\x00\\xe0.\\x88\\xb4\\xbf\\x00\\x00\\x00\\xa0\\xef\\x8f\\xc0\\xbf\\x00\\x00\\x00@\\x0c\\x8d\\xb2?\\x00\\x00\\x00\\xe0\\xbb8\\xc3\\xbf\\x00\\x00\\x00@\\x94\\xf8\\xb2\\xbf\\x00\\x00\\x00@\\xb9\\xc7|\\xbf\\x00\\x00\\x00`\\x06\\x96\\xca\\xbf\\x00\\x00\\x00@q\\x18\\x86\\xbf\\x00\\x00\\x00\\xe0\\xdfd\\xa9\\xbf\\x00\\x00\\x00\\x00aT\\xc0?\\x00\\x00\\x00\\x00\\xc3\\xa1\\xbe?\\x00\\x00\\x00\\x80\\x9a(`\\xbf\\x00\\x00\\x00\\x80]\\xe3\\xc0?\\x00\\x00\\x00\\xc0C\\x8e\\x9d?\\x00\\x00\\x00\\xc0\\xdc0\\xc8\\xbf\\x00\\x00\\x00\\x00P\\xa0\\x99\\xbf\\x00\\x00\\x00\\x80\\xb8E\\x98?\\x00\\x00\\x00`\\xda\\x85\\xcf?\\x00\\x00\\x00\\xe0\\xb2\\x80\\xc9?\\x00\\x00\\x00\\x00[\\xea\\xa1?\\x00\\x00\\x00\\x00\\xfb\\xb3a?\\x00\\x00\\x00\\xc0<\\x8b\\x9e\\xbf\\x00\\x00\\x00@\\xf9\\xfc\\xbd?\\x00\\x00\\x00\\xa0\\x0c\\xa3\\xc9\\xbf\\x00\\x00\\x00@P\\x00\\xae?\\x00\\x00\\x00 f\\xde\\xb4?\\x00\\x00\\x00\\xc0h\\xba\\xba?\\x00\\x00\\x00\\xc0G\\x9a|\\xbf\\x00\\x00\\x00\\x80wE\\xb8?\\x00\\x00\\x00\\x80`\\xec\\xc5\\xbf\\x00\\x00\\x00\\xc0\\x99\\xeb\\xa9\\xbf\\x00\\x00\\x00\\x80&\\xdf\\xb8?\\x00\\x00\\x00`A?\\xc5\\xbf\\x00\\x00\\x00\\xa0\\x9a\\xb4\\xb8?\\x00\\x00\\x00\\xe0|g\\xaa\\xbf\\x00\\x00\\x00\\xe0\\x81W\\xb3\\xbf\\x00\\x00\\x00\\xc0\\xd4\\xb6\\xb0\\xbf\\x00\\x00\\x00 \\xcb4|?\\x00\\x00\\x00`\\xe5K\\xcb?\\x00\\x00\\x00`\\xcaQ\\xc0?\\x00\\x00\\x00\\xc0\\xeb\\xd2\\xbb\\xbf\\x00\\x00\\x00@\\x7f$\\xbe\\xbf\\x00\\x00\\x00`pj\\xd0?\\x00\\x00\\x00\\x00\\xa9F\\xcd\\xbf\\x00\\x00\\x00 \\xadt\\x92?\\x00\\x00\\x00\\xe0\\xbd\\xe6\\xb1?\\x00\\x00\\x00\\x80\\xacL\\xaf\\xbf\\x00\\x00\\x00 \\xbf\\xf6\\xc0\\xbf\\x00\\x00\\x00\\xa0\\xfd\\x1c\\xd1\\xbf\\x00\\x00\\x00\\xa0l;\\xb0?\\x00\\x00\\x00\\xe0\\x82\\xa1\\xdc?\\x00\\x00\\x00@\\xdf\\xca\\xc7?\\x00\\x00\\x00`\\x93\\x89\\xc7\\xbf\\x00\\x00\\x00\\x80w\\xc3\\xb8?\\x00\\x00\\x00\\x00m\\x81\\xbd\\xbf\\x00\\x00\\x00\\x80\\x92`h?\\x00\\x00\\x00\\x00\\xe1\\x1d\\xb9?\\x00\\x00\\x00\\xc0\\xb5*\\xa5?\\x00\\x00\\x00\\x00\\x1f\\x16\\xb3\\xbf\\x00\\x00\\x00\\xc0\\xe00\\xa8?\\x00\\x00\\x00 g\\x9e\\xb5\\xbf\\x00\\x00\\x00\\xc0\\x17\\x93\\xa4?\\x00\\x00\\x00\\xc0\\xb8\\xeb\\xc7?\\x00\\x00\\x00\\x80\\xcc\\x7f\\xbf?\\x00\\x00\\x00\\x00\\xbf\\x86\\x9c\\xbf\\x00\\x00\\x00\\xc0\\xad\\xcb\\xc4?\\x00\\x00\\x00\\x80\\xe1\\xe9\\xa6\\xbf\\x00\\x00\\x00@\\xfeW\\xaa?\\x00\\x00\\x00 ?\\xed\\xb2?\\x00\\x00\\x00 \\xe3\\x8e\\xa4?\\x00\\x00\\x00\\xc0\\xb5\\xfc\\xba\\xbf\\x00\\x00\\x00 K\\x1c\\xa1\\xbf\\x00\\x00\\x00\\xc0+\\x99\\xb9\\xbf\\x00\\x00\\x00\\x80b~\\x97\\xbf\\x00\\x00\\x00\\xa0\\x12\\xff\\x91?\\x00\\x00\\x00`da\\xb5\\xbf\\x00\\x00\\x00\\xe0\\xb9x\\xa5?\\x00\\x00\\x00\\x00\\x14\\xe0\\xab?\\x00\\x00\\x00\\xa0\\xd2\\xcf\\xc4\\xbf\\x00\\x00\\x00\\x00\\x8cN\\xbb?\\x00\\x00\\x00`\\x98\\xcb\\x93?\\x00\\x00\\x00\\x00\\xc2\\xa0\\xa4\\xbf\\x00\\x00\\x00@y\\x93p?\\x00\\x00\\x00\\x00\\x9f3\\xc3?\\x00\\x00\\x00`f\\x91\\xbc\\xbf\\x00\\x00\\x00\\x80\\x80c\\x98\\xbf\\x00\\x00\\x00`\\r\\x84\\xbe?\\x00\\x00\\x00`\\x82E\\xd2\\xbf\\x00\\x00\\x00@\\xb1p\\xcd?\\x00\\x00\\x00\\xe0\\xfd\\x08\\xc6?\\x00\\x00\\x00\\xc0\\xebP\\xac?\\x00\\x00\\x00\\xe0\\xb3\\x00\\xc6?\\x00\\x00\\x00\\xc0V\\xbc\\xb1?\\x00\\x00\\x00\\x80q1\\xb6?\\x00\\x00\\x00\\x00\\xa3\\x0f\\x9f?\\x00\\x00\\x00\\x80\\xbab\\xb0\\xbf\\x00\\x00\\x00\\xa0 \\x80\\xb8\\xbf\\x00\\x00\\x00\\xe0:\\xe0\\xb7\\xbf\\x00\\x00\\x00\\xc0\\xac~\\x9c?\\x00\\x00\\x00\\xc0\\xb6\\xb7\\xbc\\xbf\\x00\\x00\\x00 \\xee\\xae\\xbf?\\x00\\x00\\x00 1\\xdc\\x9c?\")\n",
      "(3, 'DJ', 21, 'M', 0, 'C:/IOT/DJ_face1.jpg', b'\\x00\\x00\\x00`\\\\\\x16\\xc1\\xbf\\x00\\x00\\x00\\xa0,\\x00\\xb4?\\x00\\x00\\x00`\\x0c\\xc6\\xb0?\\x00\\x00\\x00\\xc0\\xd4\\x92\\x85\\xbf\\x00\\x00\\x00@\\x1e.\\x86\\xbf\\x00\\x00\\x00`\\xab3\\xb0\\xbf\\x00\\x00\\x00\\x001\\xaal?\\x00\\x00\\x00@?6\\xb1\\xbf\\x00\\x00\\x00`Z\\xc3\\xc3?\\x00\\x00\\x00\\xe0\\x84\\x07\\xb0\\xbf\\x00\\x00\\x00@\\xb5\\r\\xcb?\\x00\\x00\\x00 \\x1f\\xce\\xb0\\xbf\\x00\\x00\\x00\\x005\\xef\\xcc\\xbf\\x00\\x00\\x00@\\x8dN\\xb1\\xbf\\x00\\x00\\x00\\x00X\\x0c\\xaa\\xbf\\x00\\x00\\x00 \\xd9\\xdc\\xb0?\\x00\\x00\\x00\\x80\\x81\\xcb\\xb6\\xbf\\x00\\x00\\x00 }\\x82\\xc2\\xbf\\x00\\x00\\x00@u\\xe4\\xac\\xbf\\x00\\x00\\x00@\\xef\\x17\\xb1\\xbf\\x00\\x00\\x00 C\\xf8\\xaf?\\x00\\x00\\x00`\\xa2vR\\xbf\\x00\\x00\\x00\\xa0\\x93\\r\\x8a\\xbf\\x00\\x00\\x00\\xe0c\\xf9\\x81?\\x00\\x00\\x00\\xc0D\\xcf\\xb7\\xbf\\x00\\x00\\x00\\x80#\\xa1\\xd3\\xbf\\x00\\x00\\x00\\xc0\\xd2\\xd2\\xb7\\xbf\\x00\\x00\\x00@)\\x94\\xb2\\xbf\\x00\\x00\\x00@\\x94\\x06\\x8a\\xbf\\x00\\x00\\x00 l\\xcf\\xac\\xbf\\x00\\x00\\x00\\x008JC\\xbf\\x00\\x00\\x00\\xe0\\x12\\xd7\\xb3?\\x00\\x00\\x00\\x80\\xb3\\x0e\\xcb\\xbf\\x00\\x00\\x00\\xc0\\x8f8\\xb3\\xbf\\x00\\x00\\x00\\x80\\xd4\\x17\\xb3\\xbf\\x00\\x00\\x00\\x80,\\x02\\xac?\\x00\\x00\\x00\\xe0:\\t\\x8e\\xbf\\x00\\x00\\x00@-\\xd6{\\xbf\\x00\\x00\\x00\\x00\\xbf\\xf5\\xc1?\\x00\\x00\\x00\\x00\\xa3\\xdck\\xbf\\x00\\x00\\x00 i\\xc1\\xc3\\xbf\\x00\\x00\\x00@\\xd5\\x84\\xad\\xbf\\x00\\x00\\x00\\x80\\xf3\\x0b\\xac?\\x00\\x00\\x00@\\x83#\\xce?\\x00\\x00\\x00\\x80\\x94\\xd7\\xc3?\\x00\\x00\\x00\\xa0\\xef\\xfa\\x94?\\x00\\x00\\x00\\xc0\\x1f7\\x91\\xbf\\x00\\x00\\x00\\xe0a\\x05\\xb3\\xbf\\x00\\x00\\x00\\xe0\\xe9}t?\\x00\\x00\\x00@T\\xbb\\xd1\\xbf\\x00\\x00\\x00\\x00\\x9c\\x92x?\\x00\\x00\\x00\\xc0\\xe6k\\xc6?\\x00\\x00\\x00\\xe0L\\x18\\xa8?\\x00\\x00\\x00@\\xa6\\x9b\\xb3?\\x00\\x00\\x00\\x00\\xd04\\xad?\\x00\\x00\\x00@y\\x00\\xc0\\xbf\\x00\\x00\\x00\\xa0\\x9f@\\x9d?\\x00\\x00\\x00\\xc0\\xd3`\\xaa?\\x00\\x00\\x00\\xa0\\xfd\\x14\\xc6\\xbf\\x00\\x00\\x00@\\x8f\\x9a\\xa6?\\x00\\x00\\x00\\xc0\\xb9\\xf3\\x8b?\\x00\\x00\\x00\\x80es\\x89\\xbf\\x00\\x00\\x00\\x80\\xbb\\xfc\\xa3\\xbf\\x00\\x00\\x00`\\xbb\\xbff\\xbf\\x00\\x00\\x00\\xe0\\xaf\\x7f\\xcb?\\x00\\x00\\x00\\xe0\\xa7H\\xc1?\\x00\\x00\\x00\\x00?E\\xb3\\xbf\\x00\\x00\\x00\\xc0\\x04\\x9f\\xbf\\xbf\\x00\\x00\\x00\\xc0\\x82>\\xbe?\\x00\\x00\\x00 m\\x98\\xc3\\xbf\\x00\\x00\\x00 6\\xe7\\x9c\\xbf\\x00\\x00\\x00@\\xfa\\x0e\\xc2?\\x00\\x00\\x00\\x80r\\xf1\\xb0\\xbf\\x00\\x00\\x00\\xc0\\xbfU\\xcb\\xbf\\x00\\x00\\x00\\xe0d\\xff\\xcf\\xbf\\x00\\x00\\x00\\xa0\\xad\\x02\\xbd?\\x00\\x00\\x00`;\\xaa\\xdb?\\x00\\x00\\x00\\x00I)\\xb5?\\x00\\x00\\x00\\xe0\\xca\\xe8\\xbb\\xbf\\x00\\x00\\x00\\xa0\\xeb}\\xb4?\\x00\\x00\\x00 \\r\\xd1\\xbe\\xbf\\x00\\x00\\x00\\xc0\\xd7\\x97\\xb3\\xbf\\x00\\x00\\x00@Y\\xf6\\xbc?\\x00\\x00\\x00\\xa0F\\x06\\x9b\\xbf\\x00\\x00\\x00@kT\\xbe\\xbf\\x00\\x00\\x00\\x00\\x8c\\xdd\\xa0?\\x00\\x00\\x00\\x00\\r\\xc5\\xc3\\xbf\\x00\\x00\\x00`\\xad\\xd6\\xaf?\\x00\\x00\\x00\\xe0~\\x9a\\xc8?\\x00\\x00\\x00\\xc0\\x9e\\xa1v?\\x00\\x00\\x00`}\\x98\\xaf\\xbf\\x00\\x00\\x00@Ff\\xc3?\\x00\\x00\\x00@\\x8a\\xf2\\x97\\xbf\\x00\\x00\\x00@[J\\xa3?\\x00\\x00\\x00@5l\\xb3?\\x00\\x00\\x00\\x80\\n\\x9d\\xbf?\\x00\\x00\\x00\\x00M\\xc1\\xa9\\xbf\\x00\\x00\\x00\\x003N\\xa7?\\x00\\x00\\x00\\x00\\x17\\x9d\\xc6\\xbf\\x00\\x00\\x00@\\xcaF\\x8d\\xbf\\x00\\x00\\x00@^\\xca\\xc0?\\x00\\x00\\x00`\\xf4&\\xb6\\xbf\\x00\\x00\\x00\\xe0\\x98)\\xa8\\xbf\\x00\\x00\\x00\\x80\\xfe\\x0c\\xb0?\\x00\\x00\\x00\\xa0\\xe4n\\xb9\\xbf\\x00\\x00\\x00\\x80\\xb7i\\xb1?\\x00\\x00\\x00\\xe0\\x81\\xc1\\x99?\\x00\\x00\\x00\\xa0\\x80\\xda\\xac\\xbf\\x00\\x00\\x00 F\\xaf\\xa0\\xbf\\x00\\x00\\x00 \\xd2\\xfb\\xa1\\xbf\\x00\\x00\\x00@\\xe6\\x8c\\xbd\\xbf\\x00\\x00\\x00\\x80\\xee\\x8ds\\xbf\\x00\\x00\\x00\\x00\\x05\\n\\xc1?\\x00\\x00\\x00 \\x1d\\xdc\\xcc\\xbf\\x00\\x00\\x00\\x00\\xfa\\x14\\xc6?\\x00\\x00\\x00\\xc0S\\xd0\\xb8?\\x00\\x00\\x00\\xc0p/\\x8c\\xbf\\x00\\x00\\x00`8]\\xc2?\\x00\\x00\\x00\\xc0U7\\xbb?\\x00\\x00\\x00@L\\x94\\xab?\\x00\\x00\\x00\\xe0D.\\x98\\xbf\\x00\\x00\\x00\\x80\\xf1\\x17\\xb3\\xbf\\x00\\x00\\x00\\xe0%\\r\\xbb\\xbf\\x00\\x00\\x00\\xe0\\xfa\\x8f\\xa4\\xbf\\x00\\x00\\x00\\xe0S-\\xb2?\\x00\\x00\\x00\\xa0\\xb6\\xe1\\x9e?\\x00\\x00\\x00\\xe0\\x88\\xf0\\xa9?\\x00\\x00\\x00 \\xc5N\\x83?')\n"
     ]
    }
   ],
   "source": [
    "import sqlite3\n",
    "\n",
    "# Connect to the SQLite database file\n",
    "conn = sqlite3.connect('people.db')\n",
    "\n",
    "# Create a cursor object to execute SQL queries\n",
    "cursor = conn.cursor()\n",
    "\n",
    "# Execute a SELECT query to retrieve data from a table\n",
    "cursor.execute(\"SELECT * FROM VOTERID \")  # Replace 'tablename' with the actual table name in your database\n",
    "\n",
    "# Fetch all the rows returned by the SELECT query\n",
    "rows = cursor.fetchall()\n",
    "\n",
    "# Process and print the retrieved data\n",
    "for row in rows:\n",
    "    print(row)  # Modify this to display the specific columns or format the output as per your requirements\n",
    "\n",
    "# Close the cursor and the database connection\n",
    "cursor.close()\n",
    "conn.close()\n"
   ]
  },
  {
   "cell_type": "markdown",
   "id": "7ba4a3b5",
   "metadata": {},
   "source": [
    "# TO DISPLAY CONTENT OF PEOPLE DATABASE"
   ]
  },
  {
   "cell_type": "code",
   "execution_count": 2,
   "id": "6c6a0626",
   "metadata": {},
   "outputs": [],
   "source": [
    "import sqlite3\n",
    "import tkinter as tk\n",
    "from tkinter import ttk\n",
    "\n",
    "def get_voter_data(conn):\n",
    "    cursor = conn.execute(\"SELECT ID, Name, Age, Gender, CH FROM VOTERID\")\n",
    "    return cursor.fetchall()\n",
    "\n",
    "def main():\n",
    "    # Connect to the SQLite database\n",
    "    conn = sqlite3.connect('people.db')\n",
    "\n",
    "    # Get data from the \"VOTERID\" table\n",
    "    voter_data = get_voter_data(conn)\n",
    "\n",
    "    # Close the database connection\n",
    "    conn.close()\n",
    "\n",
    "    # Create the Tkinter application\n",
    "    root = tk.Tk()\n",
    "    root.title(\"Voter Data Display\")\n",
    "    root.geometry(\"1000x300\")  # Set the window size\n",
    "\n",
    "    # Create a Treeview to display the data\n",
    "    tree = ttk.Treeview(root, columns=[\"ID\", \"Name\", \"Age\", \"Gender\", \"CH\"], show=\"headings\")\n",
    "\n",
    "    # Add columns to the Treeview\n",
    "    tree.heading(\"ID\", text=\"ID\", anchor=tk.CENTER)\n",
    "    tree.heading(\"Name\", text=\"Name\", anchor=tk.CENTER)\n",
    "    tree.heading(\"Age\", text=\"Age\", anchor=tk.CENTER)\n",
    "    tree.heading(\"Gender\", text=\"Gender\", anchor=tk.CENTER)\n",
    "    tree.heading(\"CH\", text=\"CH\", anchor=tk.CENTER)\n",
    "\n",
    "    # Insert data into the Treeview\n",
    "    for row in voter_data:\n",
    "        tree.insert(\"\", \"end\", values=row)\n",
    "\n",
    "    # Set a bigger font for the Treeview headings and cells\n",
    "    style = ttk.Style()\n",
    "    style.configure(\"Treeview.Heading\", font=(\"Arial\", 16, \"bold\"))\n",
    "    style.configure(\"Treeview\", font=(\"Arial\", 14))\n",
    "\n",
    "    # Create a scrollbar for the Treeview\n",
    "    scrollbar = ttk.Scrollbar(root, orient=\"vertical\", command=tree.yview)\n",
    "    tree.configure(yscrollcommand=scrollbar.set)\n",
    "\n",
    "    # Pack the Treeview and scrollbar widgets!\n",
    "    tree.pack(fill=\"both\", expand=True)\n",
    "    scrollbar.pack(side=\"right\", fill=\"y\")\n",
    "\n",
    "    # Start the Tkinter main loop\n",
    "    root.mainloop()\n",
    "\n",
    "if __name__ == \"__main__\":\n",
    "    main()\n"
   ]
  },
  {
   "cell_type": "markdown",
   "id": "80a99df9",
   "metadata": {},
   "source": [
    "# TO DELETE FROM PEOPLE DATABASE"
   ]
  },
  {
   "cell_type": "code",
   "execution_count": null,
   "id": "bae770f3",
   "metadata": {},
   "outputs": [],
   "source": [
    "import sqlite3\n",
    "\n",
    "# Connect to the SQLite database\n",
    "conn = sqlite3.connect('people.db')\n",
    "\n",
    "# Create a cursor object\n",
    "cursor = conn.cursor()\n",
    "\n",
    "# Execute the DELETE query to remove all data from the table\n",
    "cursor.execute(\"DELETE FROM VOTERID WHERE ID \")\n",
    "\n",
    "# Commit the changes\n",
    "conn.commit()\n",
    "print(\"DELETED\")\n",
    "\n",
    "# Close the cursor and database connection\n",
    "cursor.close()\n",
    "conn.close()\n"
   ]
  },
  {
   "cell_type": "markdown",
   "id": "ec8e04ed",
   "metadata": {},
   "source": [
    "# TO DELETE FROM VOTES DATABASE"
   ]
  },
  {
   "cell_type": "code",
   "execution_count": null,
   "id": "6e4af0b8",
   "metadata": {},
   "outputs": [],
   "source": [
    "import sqlite3\n",
    "\n",
    "# Connect to the SQLite database\n",
    "conn = sqlite3.connect('votes.db')\n",
    "\n",
    "# Create a cursor object\n",
    "cursor = conn.cursor()\n",
    "\n",
    "# Execute the DELETE query to remove all data from the table\n",
    "cursor.execute(\"DELETE FROM PP \")\n",
    "\n",
    "# Commit the changes\n",
    "conn.commit()\n",
    "print(\"DELETED\")\n",
    "\n",
    "# Close the cursor and database connection\n",
    "cursor.close()\n",
    "conn.close()\n"
   ]
  },
  {
   "cell_type": "markdown",
   "id": "bff47386",
   "metadata": {},
   "source": [
    "# TO UPDATE CH IN PEOPLE DATBASE"
   ]
  },
  {
   "cell_type": "code",
   "execution_count": 4,
   "id": "6e90a5ce",
   "metadata": {},
   "outputs": [
    {
     "name": "stdout",
     "output_type": "stream",
     "text": [
      "Enter the voter's ID: 1\n",
      "Enter the updated CH value: 0\n",
      "CH value updated successfully.\n"
     ]
    }
   ],
   "source": [
    "import sqlite3\n",
    "\n",
    "def update_voter_ch(conn, voter_id, ch):\n",
    "    conn.execute(\"UPDATE VOTERID SET CH = ? WHERE ID = ?\", (ch, voter_id))\n",
    "    conn.commit()\n",
    "    print(\"CH value updated successfully.\")\n",
    "\n",
    "def main():\n",
    "    # Connect to the SQLite database\n",
    "    conn = sqlite3.connect('people.db')\n",
    "\n",
    "    # Prompt for the voter's ID and the updated CH value\n",
    "    voter_id = int(input(\"Enter the voter's ID: \"))\n",
    "    ch = int(input(\"Enter the updated CH value: \"))\n",
    "\n",
    "    # Update the CH value for the specified voter ID\n",
    "    update_voter_ch(conn, voter_id, ch)\n",
    "\n",
    "    # Close the database conn!ection\n",
    "    conn.close()\n",
    "\n",
    "if __name__ == '__main__':\n",
    "    main()\n"
   ]
  },
  {
   "cell_type": "code",
   "execution_count": null,
   "id": "0aa21c08",
   "metadata": {},
   "outputs": [],
   "source": []
  }
 ],
 "metadata": {
  "kernelspec": {
   "display_name": "Python 3 (ipykernel)",
   "language": "python",
   "name": "python3"
  },
  "language_info": {
   "codemirror_mode": {
    "name": "ipython",
    "version": 3
   },
   "file_extension": ".py",
   "mimetype": "text/x-python",
   "name": "python",
   "nbconvert_exporter": "python",
   "pygments_lexer": "ipython3",
   "version": "3.11.3"
  }
 },
 "nbformat": 4,
 "nbformat_minor": 5
}
